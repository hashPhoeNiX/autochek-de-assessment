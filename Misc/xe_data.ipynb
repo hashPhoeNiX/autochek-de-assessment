{
 "cells": [
  {
   "cell_type": "code",
   "execution_count": 49,
   "metadata": {},
   "outputs": [
    {
     "data": {
      "text/plain": [
       "True"
      ]
     },
     "execution_count": 49,
     "metadata": {},
     "output_type": "execute_result"
    }
   ],
   "source": [
    "import requests\n",
    "import pandas as pd\n",
    "import json\n",
    "import re\n",
    "import os\n",
    "from dotenv import load_dotenv\n",
    "load_dotenv()"
   ]
  },
  {
   "cell_type": "code",
   "execution_count": 21,
   "metadata": {},
   "outputs": [],
   "source": [
    "base_url = 'https://xecdapi.xe.com/v1'"
   ]
  },
  {
   "cell_type": "code",
   "execution_count": 54,
   "metadata": {},
   "outputs": [],
   "source": [
    "def fetch_data(base_url, endpoint, params):\n",
    "    auth = {\n",
    "        'user': os.getenv('API_ID'),\n",
    "        'password': os.getenv('API_KEY')\n",
    "    }\n",
    "    params.update(auth)\n",
    "    r = requests.get(f'{base_url}/{endpoint}/', auth=(auth['user'], auth['password']), params=params)\n",
    "    print(r)\n",
    "    \n",
    "    return r.json()"
   ]
  },
  {
   "cell_type": "code",
   "execution_count": 58,
   "metadata": {},
   "outputs": [
    {
     "name": "stdout",
     "output_type": "stream",
     "text": [
      "<Response [200]>\n"
     ]
    }
   ],
   "source": [
    "ops = {\n",
    "    'from': 'USD',\n",
    "    'to': ','.join(['NGN', 'GHS', 'KES', 'UGX', 'MAD', 'XOF', 'EGP']),\n",
    "    'amount': 1,\n",
    "    # 'obsolete': False,\n",
    "    'inverse': True\n",
    "}\n",
    "convert_from = fetch_data(base_url=base_url, endpoint='convert_from', params=ops)"
   ]
  },
  {
   "cell_type": "code",
   "execution_count": 60,
   "metadata": {},
   "outputs": [
    {
     "name": "stdout",
     "output_type": "stream",
     "text": [
      "{'amount': 1.0,\n",
      " 'from': 'USD',\n",
      " 'privacy': 'http://www.xe.com/privacy.php',\n",
      " 'terms': 'http://www.xe.com/legal/dfs.php',\n",
      " 'timestamp': '2022-08-20T00:00:00Z',\n",
      " 'to': [{'inverse': 0.0961080919, 'mid': 10.4049511397, 'quotecurrency': 'MAD'},\n",
      "        {'inverse': 0.1025671441, 'mid': 9.7497108719, 'quotecurrency': 'GHS'},\n",
      "        {'inverse': 0.0023791748, 'mid': 420.313803586, 'quotecurrency': 'NGN'},\n",
      "        {'inverse': 0.0002599058,\n",
      "         'mid': 3847.5480026024,\n",
      "         'quotecurrency': 'UGX'},\n",
      "        {'inverse': 0.0083478581, 'mid': 119.791206724, 'quotecurrency': 'KES'},\n",
      "        {'inverse': 0.0015307301,\n",
      "         'mid': 653.2830422884,\n",
      "         'quotecurrency': 'XOF'},\n",
      "        {'inverse': 0.0522490318,\n",
      "         'mid': 19.1391106462,\n",
      "         'quotecurrency': 'EGP'}]}\n"
     ]
    }
   ],
   "source": [
    "from pprint import pprint\n",
    "pprint(convert_from)"
   ]
  },
  {
   "cell_type": "code",
   "execution_count": 77,
   "metadata": {},
   "outputs": [],
   "source": [
    "def convert_to_dataframe(json_data):\n",
    "    df = pd.DataFrame()\n",
    "    quotecurrency = []\n",
    "    mid = []\n",
    "    inverse = []\n",
    "    for idx in convert_from['to']:\n",
    "        quotecurrency.append(idx['quotecurrency'])\n",
    "        mid.append(idx['mid'])\n",
    "        inverse.append(idx['inverse'])\n",
    "    df['USD_to_currency_rate'] = mid\n",
    "    df['currency_to_USD_rate'] = inverse\n",
    "    df['currency_to'] = quotecurrency\n",
    "    df['timestamp'] = convert_from['timestamp']\n",
    "    df['currency_from'] = convert_from['from']\n",
    "    columns = ['timestamp', 'currency_from', 'USD_to_currency_rate', 'currency_to_USD_rate', 'currency_to']\n",
    "    df = df[columns]\n",
    "\n",
    "    return df\n",
    "\n",
    "result = convert_to_dataframe(convert_from)"
   ]
  },
  {
   "cell_type": "code",
   "execution_count": 82,
   "metadata": {},
   "outputs": [
    {
     "data": {
      "text/plain": [
       "datetime.date(2022, 8, 20)"
      ]
     },
     "execution_count": 82,
     "metadata": {},
     "output_type": "execute_result"
    }
   ],
   "source": [
    "from datetime import date\n",
    "today = date.today()\n",
    "today\n"
   ]
  },
  {
   "cell_type": "code",
   "execution_count": 84,
   "metadata": {},
   "outputs": [],
   "source": [
    "result.to_csv(f'rates_{today}.csv', index=0)"
   ]
  },
  {
   "cell_type": "code",
   "execution_count": 85,
   "metadata": {},
   "outputs": [
    {
     "data": {
      "text/plain": [
       "'rates_2022-08-20.csv'"
      ]
     },
     "execution_count": 85,
     "metadata": {},
     "output_type": "execute_result"
    }
   ],
   "source": [
    "f'rates_{today}.csv'"
   ]
  },
  {
   "cell_type": "code",
   "execution_count": null,
   "metadata": {},
   "outputs": [],
   "source": []
  }
 ],
 "metadata": {
  "kernelspec": {
   "display_name": "Python 3.9.7 ('base')",
   "language": "python",
   "name": "python3"
  },
  "language_info": {
   "codemirror_mode": {
    "name": "ipython",
    "version": 3
   },
   "file_extension": ".py",
   "mimetype": "text/x-python",
   "name": "python",
   "nbconvert_exporter": "python",
   "pygments_lexer": "ipython3",
   "version": "3.9.7"
  },
  "orig_nbformat": 4,
  "vscode": {
   "interpreter": {
    "hash": "049789e9d1e2a726c08389ac30fcf4cf7d3566f6a964560b5d4e288178a1e91d"
   }
  }
 },
 "nbformat": 4,
 "nbformat_minor": 2
}
